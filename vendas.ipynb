{
 "cells": [
  {
   "cell_type": "code",
   "execution_count": 2,
   "metadata": {},
   "outputs": [],
   "source": [
    "import os\n",
    "import pandas as pd"
   ]
  },
  {
   "cell_type": "code",
   "execution_count": 8,
   "metadata": {},
   "outputs": [],
   "source": [
    "BASE_DIR = os.getcwd()\n",
    "INPUT_DIR = os.path.join(BASE_DIR, 'input')\n",
    "OUTPUT_DIR = os.path.join(BASE_DIR, 'output')"
   ]
  },
  {
   "cell_type": "code",
   "execution_count": 46,
   "metadata": {},
   "outputs": [],
   "source": [
    "df = pd.read_excel(\n",
    "    io = os.path.join(\n",
    "        INPUT_DIR,\n",
    "        \"Vendas_-_Super_loja.xlsx\"\n",
    "    )\n",
    ")"
   ]
  },
  {
   "cell_type": "code",
   "execution_count": 47,
   "metadata": {},
   "outputs": [],
   "source": [
    "df[\"País\"] = df[\"País\"].str.replace(\"Méxicox\", \"México\")\n",
    "\n",
    "df[\"Marca do produto\"] = df[\"Nome do produto\"].apply(lambda x: x.split(\" \")[0])\n",
    "df[\"Descrição complementar do produto\"] = df[\"Nome do produto\"].apply(lambda x: x.split(\", \")[1])\n",
    "df[\"Descrição do produto\"] = df[\"Nome do produto\"].apply(lambda x: str(x[str(x).find(\" \") + 1:]).split(\", \")[0])\n",
    "\n",
    "df[\"Preço Unitário\"] = df[\"Vendas\"] / df[\"Quantidade\"]\n",
    "df[\"Custo\"] = df[\"Vendas\"] + df[\"Desconto\"] - df[\"Lucro Tratado\"]\n",
    "df[\"Custo Unitário\"] = df[\"Custo\"] / df[\"Quantidade\"]\n",
    "\n",
    "df[\"Lucro Unitário\"] = df[\"Lucro Tratado\"] / df[\"Quantidade\"]"
   ]
  },
  {
   "cell_type": "code",
   "execution_count": 48,
   "metadata": {},
   "outputs": [],
   "source": [
    "df.to_csv(\n",
    "    path_or_buf = os.path.join(\n",
    "        OUTPUT_DIR,\n",
    "        \"vendas_super_loja.csv\"\n",
    "    ),\n",
    "    sep=\";\",\n",
    "    decimal=\",\",\n",
    "    encoding=\"utf-8-sig\"\n",
    ")"
   ]
  }
 ],
 "metadata": {
  "kernelspec": {
   "display_name": "Python 3",
   "language": "python",
   "name": "python3"
  },
  "language_info": {
   "codemirror_mode": {
    "name": "ipython",
    "version": 3
   },
   "file_extension": ".py",
   "mimetype": "text/x-python",
   "name": "python",
   "nbconvert_exporter": "python",
   "pygments_lexer": "ipython3",
   "version": "3.11.2"
  }
 },
 "nbformat": 4,
 "nbformat_minor": 2
}
